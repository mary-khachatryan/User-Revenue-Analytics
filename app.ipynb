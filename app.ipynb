{
 "cells": [
  {
   "cell_type": "code",
   "execution_count": 115,
   "metadata": {},
   "outputs": [],
   "source": [
    "import pandas as pd\n",
    "import csv\n",
    "from datetime import datetime, timedelta\n",
    "from tqdm import tqdm"
   ]
  },
  {
   "cell_type": "code",
   "execution_count": null,
   "metadata": {},
   "outputs": [],
   "source": [
    "df_installs = pd.read_csv(\"C:\\Future\\\\for git\\Task-for-Junior-Data-Analystt\\installs.csv\",skipinitialspace=True)\n",
    "df_installs"
   ]
  },
  {
   "cell_type": "code",
   "execution_count": 8,
   "metadata": {},
   "outputs": [],
   "source": [
    "df_iap = pd.read_csv(\"C:\\Future\\\\for git\\Task-for-Junior-Data-Analystt\\iap.csv\",skipinitialspace=True)"
   ]
  },
  {
   "cell_type": "markdown",
   "metadata": {},
   "source": []
  },
  {
   "cell_type": "code",
   "execution_count": 9,
   "metadata": {},
   "outputs": [],
   "source": [
    "df_rv = pd.read_csv(\"C:\\Future\\\\for git\\Task-for-Junior-Data-Analystt\\\\rv.csv\",skipinitialspace=True)"
   ]
  },
  {
   "cell_type": "code",
   "execution_count": null,
   "metadata": {},
   "outputs": [],
   "source": []
  },
  {
   "cell_type": "code",
   "execution_count": null,
   "metadata": {},
   "outputs": [],
   "source": [
    "df_inst_rv_merge = df_installs.merge(df_rv, how='left',on='user_id')\n",
    "df_inst_iap_merge = df_installs.merge(df_iap, how='left',on='user_id')\n",
    "df_merge = df_inst_rv_merge.merge(df_inst_iap_merge,how='outer',indicator=True)\n",
    "\n",
    "df_merge"
   ]
  },
  {
   "cell_type": "code",
   "execution_count": null,
   "metadata": {},
   "outputs": [],
   "source": []
  },
  {
   "cell_type": "code",
   "execution_count": 34,
   "metadata": {},
   "outputs": [],
   "source": [
    "with open('m_df.csv', 'w', newline='') as file:\n",
    "    writer = csv.writer(file)"
   ]
  },
  {
   "cell_type": "code",
   "execution_count": 35,
   "metadata": {},
   "outputs": [],
   "source": [
    "df_merge.to_csv('m_df.csv', sep=',', index=False, encoding='utf-8')\n"
   ]
  },
  {
   "cell_type": "code",
   "execution_count": null,
   "metadata": {},
   "outputs": [],
   "source": []
  },
  {
   "cell_type": "code",
   "execution_count": 20,
   "metadata": {},
   "outputs": [
    {
     "data": {
      "text/plain": [
       "1.251525271319444"
      ]
     },
     "execution_count": 20,
     "metadata": {},
     "output_type": "execute_result"
    }
   ],
   "source": []
  },
  {
   "cell_type": "code",
   "execution_count": 52,
   "metadata": {},
   "outputs": [],
   "source": [
    "def days_passed(install_time, merge_time):\n",
    "    time_difference = pd.Timestamp(merge_time) - pd.Timestamp(install_time)\n",
    "    return (time_difference.total_seconds() / 3600)"
   ]
  },
  {
   "cell_type": "code",
   "execution_count": 108,
   "metadata": {},
   "outputs": [],
   "source": [
    "df_merge.insert(2,column = \"day1_revenue\", value =0) \n",
    "df_merge.insert(3,column = \"endofDay_revenue\", value =0)"
   ]
  },
  {
   "cell_type": "code",
   "execution_count": 119,
   "metadata": {},
   "outputs": [
    {
     "name": "stderr",
     "output_type": "stream",
     "text": [
      "100%|██████████| 4104494/4104494 [09:44<00:00, 7019.27it/s] \n"
     ]
    }
   ],
   "source": [
    "def same_day(date1, date2):\n",
    "    return date1.date() == date2.date()\n",
    "\n",
    "# Define a function to calculate the time difference in hours\n",
    "def time_difference_hours(date1, date2):\n",
    "    return (date2 - date1).total_seconds() / 3600\n",
    "\n",
    "# Iterate through the DataFrame using vectorized operations where possible\n",
    "df_merge['install_time'] = pd.to_datetime(df_merge['install_time'])\n",
    "df_merge['date'] = pd.to_datetime(df_merge['date'])\n",
    "\n",
    "# Use tqdm to track progress while iterating through the DataFrame\n",
    "for index, row in tqdm(df_merge.iterrows(), total=len(df_merge)):\n",
    "    install_time = row['install_time']\n",
    "    date = row['date']\n",
    "    time = row['time']\n",
    "    purchase_value = row['purchase_value']\n",
    "    ad_revenue = row['ad_revenue']\n",
    "    \n",
    "    if not pd.isna(time):\n",
    "        if days_passed(install_time, time) <= 24:\n",
    "            df_merge.at[index, 'day1_revenue'] = purchase_value\n",
    "        if install_time.date() == pd.to_datetime(time).date():\n",
    "            df_merge.at[index, 'endofDay_revenue'] = purchase_value\n",
    "            \n",
    "    if not pd.isna(date):\n",
    "        difference_hours = (install_time - date).total_seconds() / 3600\n",
    "        if install_time.date() == date.date():\n",
    "            df_merge.at[index, 'endofDay_revenue'] = ad_revenue\n",
    "            df_merge.at[index, 'day1_revenue'] = ad_revenue"
   ]
  },
  {
   "cell_type": "code",
   "execution_count": null,
   "metadata": {},
   "outputs": [],
   "source": [
    "\n",
    "df_merge"
   ]
  },
  {
   "cell_type": "code",
   "execution_count": 121,
   "metadata": {},
   "outputs": [],
   "source": [
    "with open('t.csv', 'w', newline='') as file:\n",
    "    writer = csv.writer(file)"
   ]
  },
  {
   "cell_type": "code",
   "execution_count": 122,
   "metadata": {},
   "outputs": [],
   "source": [
    "df_merge.to_csv('t.csv', sep=',', index=False, encoding='utf-8')"
   ]
  },
  {
   "cell_type": "code",
   "execution_count": 123,
   "metadata": {},
   "outputs": [
    {
     "name": "stdout",
     "output_type": "stream",
     "text": [
      "iap_arpu : 0.7937312154068215\n",
      "rv_arpu : 0.45701563835608755\n",
      "overall_arpu : 1.2507468537629092\n",
      "day1_ARPU : 0.3455214373145867\n",
      "end_of_1day_arpu : 0.2765293628219536\n"
     ]
    }
   ],
   "source": [
    "total_purchase = df_merge['purchase_value'].sum()\n",
    "unique_users = df_installs['user_id'].nunique()\n",
    "total_ad_revenue = df_rv['ad_revenue'].sum()\n",
    "total_1day_revenue = df_merge['day1_revenue'].sum()\n",
    "total_end_of_1day_revenue = df_merge['endofDay_revenue'].sum()\n",
    "iap_arpu = total_purchase / unique_users\n",
    "rv_arpu = total_ad_revenue / unique_users\n",
    "overall_arpu =(total_purchase +total_ad_revenue)/ unique_users\n",
    "end_of_1day_arpu = total_end_of_1day_revenue / unique_users\n",
    "day1_ARPU = total_1day_revenue / unique_users\n",
    "\n",
    "print('iap_arpu :', iap_arpu)\n",
    "print('rv_arpu :', rv_arpu)\n",
    "print('overall_arpu :', overall_arpu )\n",
    "print('day1_ARPU :', day1_ARPU)\n",
    "print('end_of_1day_arpu :', end_of_1day_arpu)\n"
   ]
  }
 ],
 "metadata": {
  "kernelspec": {
   "display_name": "Python 3",
   "language": "python",
   "name": "python3"
  },
  "language_info": {
   "codemirror_mode": {
    "name": "ipython",
    "version": 3
   },
   "file_extension": ".py",
   "mimetype": "text/x-python",
   "name": "python",
   "nbconvert_exporter": "python",
   "pygments_lexer": "ipython3",
   "version": "3.10.10"
  }
 },
 "nbformat": 4,
 "nbformat_minor": 2
}
