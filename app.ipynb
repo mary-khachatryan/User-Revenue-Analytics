{
 "cells": [
  {
   "cell_type": "code",
   "execution_count": 14,
   "metadata": {},
   "outputs": [],
   "source": [
    "import pandas as pd\n",
    "import csv\n",
    "import os\n",
    "from tqdm import tqdm"
   ]
  },
  {
   "cell_type": "code",
   "execution_count": 15,
   "metadata": {},
   "outputs": [],
   "source": [
    "directory = \"..\"  # Root directory\n",
    "\n",
    "\n",
    "subdirectories = [\"User-Revenue-Analytics/files/\"]       "
   ]
  },
  {
   "cell_type": "code",
   "execution_count": 16,
   "metadata": {},
   "outputs": [],
   "source": [
    "file_name = \"installs.csv\"\n",
    "file_path = os.path.join(directory, *subdirectories, file_name)\n",
    "df_installs = pd.read_csv(file_path,skipinitialspace=True)\n",
    "\n",
    "\n",
    "file_name = \"iap.csv\"\n",
    "file_path = os.path.join(directory, *subdirectories, file_name)\n",
    "df_iap = pd.read_csv(file_path,skipinitialspace=True)\n",
    "\n",
    "file_name = \"rv.csv\"\n",
    "file_path = os.path.join(directory, *subdirectories, file_name)\n",
    "df_rv = pd.read_csv(file_path,skipinitialspace=True)\n"
   ]
  },
  {
   "cell_type": "code",
   "execution_count": 8,
   "metadata": {},
   "outputs": [],
   "source": []
  },
  {
   "cell_type": "markdown",
   "metadata": {},
   "source": []
  },
  {
   "cell_type": "code",
   "execution_count": 9,
   "metadata": {},
   "outputs": [],
   "source": []
  },
  {
   "cell_type": "code",
   "execution_count": null,
   "metadata": {},
   "outputs": [],
   "source": []
  },
  {
   "cell_type": "code",
   "execution_count": 17,
   "metadata": {},
   "outputs": [],
   "source": [
    "df_inst_rv_merge = df_installs.merge(df_rv, how='left',on='user_id')\n",
    "df_inst_iap_merge = df_installs.merge(df_iap, how='left',on='user_id')\n",
    "df_merge = df_inst_rv_merge.merge(df_inst_iap_merge,how='outer',indicator=True)\n"
   ]
  },
  {
   "cell_type": "code",
   "execution_count": 18,
   "metadata": {},
   "outputs": [],
   "source": [
    "def passed_houres(install_time, merge_time):\n",
    "    time_difference = pd.Timestamp(merge_time) - pd.Timestamp(install_time)\n",
    "    return (time_difference.total_seconds() / 3600)"
   ]
  },
  {
   "cell_type": "code",
   "execution_count": 19,
   "metadata": {},
   "outputs": [],
   "source": [
    "df_merge.insert(2,column = \"first_24hours_revenue\", value =0) \n",
    "df_merge.insert(3,column = \"end_of_day_revenue\", value =0)"
   ]
  },
  {
   "cell_type": "code",
   "execution_count": null,
   "metadata": {},
   "outputs": [],
   "source": [
    "def same_day(date1, date2):\n",
    "    return date1.date() == date2.date()\n",
    "\n",
    "\n",
    "def time_difference_hours(date1, date2):\n",
    "    return (date2 - date1).total_seconds() / 3600\n",
    "\n",
    "\n",
    "df_merge['install_time'] = pd.to_datetime(df_merge['install_time'])\n",
    "df_merge['date'] = pd.to_datetime(df_merge['date'])\n",
    "\n",
    "\n",
    "# this part may take 10-12 minutes\n",
    "for index, row in tqdm(df_merge.iterrows(), total=len(df_merge)):\n",
    "    install_time = row['install_time']\n",
    "    date = row['date']\n",
    "    time = row['time']\n",
    "    purchase_value = row['purchase_value']\n",
    "    ad_revenue = row['ad_revenue']\n",
    "    \n",
    "    if not pd.isna(time):\n",
    "        if passed_houres(install_time, time) <= 24:\n",
    "            df_merge.at[index, 'first_24hours_revenue'] = purchase_value\n",
    "        if install_time.date() == pd.to_datetime(time).date():\n",
    "            df_merge.at[index, 'end_of_day_revenue'] = purchase_value\n",
    "            \n",
    "    if not pd.isna(date):\n",
    "        difference_hours = (install_time - date).total_seconds() / 3600\n",
    "        if install_time.date() == date.date():\n",
    "            df_merge.at[index, 'end_of_day_revenue'] = ad_revenue\n",
    "            df_merge.at[index, 'first_24hours_revenue'] = ad_revenue"
   ]
  },
  {
   "cell_type": "code",
   "execution_count": 121,
   "metadata": {},
   "outputs": [],
   "source": [
    "# with open('t.csv', 'w', newline='') as file:\n",
    "#     writer = csv.writer(file)"
   ]
  },
  {
   "cell_type": "code",
   "execution_count": 122,
   "metadata": {},
   "outputs": [],
   "source": [
    "# df_merge.to_csv('t.csv', sep=',', index=False, encoding='utf-8')"
   ]
  },
  {
   "cell_type": "code",
   "execution_count": 22,
   "metadata": {},
   "outputs": [
    {
     "name": "stdout",
     "output_type": "stream",
     "text": [
      "iap_arpu : 0.7937312154068215\n",
      "rv_arpu : 0.45701563835608755\n",
      "overall_arpu : 1.2507468537629092\n",
      "first_24hours_revenue_ARPU : 0.3430026700855399\n",
      "end_of_1day_arpu : 0.2765293628219536\n"
     ]
    }
   ],
   "source": [
    "total_purchase = df_merge['purchase_value'].sum()\n",
    "unique_users = df_installs['user_id'].nunique()\n",
    "total_ad_revenue = df_rv['ad_revenue'].sum()\n",
    "total_1day_revenue = df_merge['first_24hours_revenue'].sum()\n",
    "total_end_of_1day_revenue = df_merge['end_of_day_revenue'].sum()\n",
    "iap_arpu = total_purchase / unique_users\n",
    "rv_arpu = total_ad_revenue / unique_users\n",
    "overall_arpu =(total_purchase +total_ad_revenue)/ unique_users\n",
    "end_of_1day_arpu = total_end_of_1day_revenue / unique_users\n",
    "day1_ARPU = total_1day_revenue / unique_users\n",
    "\n",
    "print('iap_arpu :', iap_arpu)\n",
    "print('rv_arpu :', rv_arpu)\n",
    "print('overall_arpu :', overall_arpu )\n",
    "print('first_24hours_revenue_ARPU :', day1_ARPU)\n",
    "print('end_of_1day_arpu :', end_of_1day_arpu)\n"
   ]
  }
 ],
 "metadata": {
  "kernelspec": {
   "display_name": "Python 3",
   "language": "python",
   "name": "python3"
  },
  "language_info": {
   "codemirror_mode": {
    "name": "ipython",
    "version": 3
   },
   "file_extension": ".py",
   "mimetype": "text/x-python",
   "name": "python",
   "nbconvert_exporter": "python",
   "pygments_lexer": "ipython3",
   "version": "3.10.10"
  }
 },
 "nbformat": 4,
 "nbformat_minor": 2
}
